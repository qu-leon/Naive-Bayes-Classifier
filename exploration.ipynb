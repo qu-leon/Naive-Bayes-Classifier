{
 "cells": [
  {
   "cell_type": "code",
   "execution_count": 5,
   "metadata": {},
   "outputs": [
    {
     "name": "stdout",
     "output_type": "stream",
     "text": [
      "<class 'pandas.core.frame.DataFrame'>\n",
      "Int64Index: 44898 entries, 0 to 21416\n",
      "Data columns (total 2 columns):\n",
      " #   Column     Non-Null Count  Dtype \n",
      "---  ------     --------------  ----- \n",
      " 0   text       44869 non-null  object\n",
      " 1   fake_news  44898 non-null  int64 \n",
      "dtypes: int64(1), object(1)\n",
      "memory usage: 1.0+ MB\n"
     ]
    }
   ],
   "source": [
    "import pandas as pd\n",
    "\n",
    "fake = pd.read_csv(\"Fake.csv\")\n",
    "true = pd.read_csv(\"True.csv\")\n",
    "\n",
    "true.head()\n",
    "fake.head()\n",
    "\n",
    "true[\"fake_news\"] = 0\n",
    "fake[\"fake_news\"] = 1\n",
    "\n",
    "# parse unique article subjects\n",
    "fake[\"subject\"].unique()\n",
    "\n",
    "just_text = true[\"text\"]\n",
    "just_text.head()\n",
    "\n",
    "just_text = just_text.str.extractall(r\"^.*? - (?P<text>.*)\")\n",
    "just_text = just_text.droplevel(1)\n",
    "true = true.assign(text=just_text[\"text\"])\n",
    "\n",
    "df = pd.concat([fake, true], axis=0)\n",
    "df = df.drop([\"subject\", \"date\", \"title\"], axis=1)\n",
    "df.info()\n",
    "df.dropna(axis=0)\n",
    "\n",
    "clean_text = df.to_csv(\"cleaned_news.csv\", index=False)"
   ]
  }
 ],
 "metadata": {
  "kernelspec": {
   "display_name": "base",
   "language": "python",
   "name": "python3"
  },
  "language_info": {
   "codemirror_mode": {
    "name": "ipython",
    "version": 3
   },
   "file_extension": ".py",
   "mimetype": "text/x-python",
   "name": "python",
   "nbconvert_exporter": "python",
   "pygments_lexer": "ipython3",
   "version": "3.9.13"
  },
  "orig_nbformat": 4
 },
 "nbformat": 4,
 "nbformat_minor": 2
}
